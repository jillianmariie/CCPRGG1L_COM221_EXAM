{
  "cells": [
    {
      "cell_type": "markdown",
      "metadata": {
        "id": "view-in-github",
        "colab_type": "text"
      },
      "source": [
        "<a href=\"https://colab.research.google.com/github/jillianmariie/CCPRGG1L_COM221_EXAM/blob/main/Copy_of_exam1.ipynb\" target=\"_parent\"><img src=\"https://colab.research.google.com/assets/colab-badge.svg\" alt=\"Open In Colab\"/></a>"
      ]
    },
    {
      "cell_type": "markdown",
      "metadata": {
        "id": "yaz2B0KGFehP"
      },
      "source": [
        "# Midterm Exam 💛💙"
      ]
    },
    {
      "cell_type": "markdown",
      "metadata": {
        "id": "_DmK1ONEFehQ"
      },
      "source": [
        "**Instructions** ❗️❗️\n",
        "\n",
        "❌ Do not remove or modify the notebook **sections**, **subsections**, **exam questions** or **any text** in this python notebook\n",
        "\n",
        "✔️ Put your answer in the designated cells below each question"
      ]
    },
    {
      "cell_type": "markdown",
      "metadata": {
        "id": "TMCAXKWCFehR"
      },
      "source": [
        "## Search"
      ]
    },
    {
      "cell_type": "code",
      "execution_count": 109,
      "metadata": {
        "id": "Fy8nEBRRFehR"
      },
      "outputs": [],
      "source": [
        "def linearSearch(my_list, number):\n",
        "\n",
        "    index = 0\n",
        "\n",
        "    for i in my_list:\n",
        "\n",
        "        if my_list[index] == number:\n",
        "            return index\n",
        "\n",
        "        index = index + 1\n",
        "\n",
        "    return -1"
      ]
    },
    {
      "cell_type": "markdown",
      "metadata": {
        "id": "AjAevpueFehS"
      },
      "source": [
        "1. Using **linear search**, write a `findLargestIncrease()` function to find the largest increase in value between two adjacent numbers in your student number `(10 points)`\n",
        "\n",
        "    **Example:**\n",
        "\n",
        "    student_number = [2,0,2,2,6,2,5,1,9,3]\n",
        "\n",
        "    **Expected Output:**\n",
        "\n",
        "    findLargestIncrease(student_number)\n",
        "\n",
        "    Output: Between 1 and 9\n",
        "\n",
        "    **Explanation:**\n",
        "\n",
        "    From this student_number, the largest increase happened from number 1 to number 9"
      ]
    },
    {
      "cell_type": "code",
      "execution_count": 110,
      "metadata": {
        "id": "JE8nEfyJFehS",
        "colab": {
          "base_uri": "https://localhost:8080/"
        },
        "outputId": "165238d9-ce10-4170-fda2-76cf25e2b0fc"
      },
      "outputs": [
        {
          "output_type": "stream",
          "name": "stdout",
          "text": [
            "Output: Between 2 and 7\n"
          ]
        }
      ],
      "source": [
        "# put your answer here\n",
        "\n",
        "student_number = [2,0,2,2,1,0,2,7,3,6]\n",
        "\n",
        "def findLargestIncrease(student_number):\n",
        "  largest_increase = 0\n",
        "  start_index = -1\n",
        "  end_index = -1\n",
        "\n",
        "  for i in range(len(student_number)-1):\n",
        "    increase = student_number[i+1] - student_number[i]\n",
        "    if increase > largest_increase:\n",
        "      largest_increase = increase\n",
        "      start_index = i\n",
        "      end_index = i + 1\n",
        "\n",
        "  if start_index !=-1 and end_index !=-1:\n",
        "    return f\"Between {student_number[start_index]} and {student_number[end_index]}\"\n",
        "  else:\n",
        "    return \"No increse found\"\n",
        "\n",
        "result = findLargestIncrease(student_number)\n",
        "print (\"Output:\", result)"
      ]
    },
    {
      "cell_type": "markdown",
      "metadata": {
        "id": "nMyr1fNyFehS"
      },
      "source": [
        "2. Using **linear search**, write a `findLargestDecrease()` function to find the largest decrease in value between two adjacent numbers in your student number `(10 points)`\n",
        "\n",
        "    **Example:**\n",
        "\n",
        "    student_number = [2,0,2,2,6,2,5,1,9,3]\n",
        "\n",
        "    **Expected Output:**\n",
        "\n",
        "    findLargestDecrease(student_number)\n",
        "\n",
        "    Output: Between 9 and 3\n",
        "\n",
        "    **Explanation:**\n",
        "\n",
        "    From this student_number, the largest decrease happened from number 9 to number 3"
      ]
    },
    {
      "cell_type": "code",
      "execution_count": 111,
      "metadata": {
        "id": "bfMfQVbVFehS",
        "colab": {
          "base_uri": "https://localhost:8080/"
        },
        "outputId": "bacccdf5-66fb-4d70-f6b4-300a4ed0515b"
      },
      "outputs": [
        {
          "output_type": "stream",
          "name": "stdout",
          "text": [
            "Output: Between 7 and 3\n"
          ]
        }
      ],
      "source": [
        "# put your answer here\n",
        "\n",
        "student_number = [2,0,2,2,1,0,2,7,3,6]\n",
        "\n",
        "def findLargestDecrease(student_number):\n",
        "  largest_decrease = 0\n",
        "  start_index = -1\n",
        "  end_index = -1\n",
        "\n",
        "  for i in range(len(student_number)-1):\n",
        "    decrease = student_number[i+1] - student_number[i]\n",
        "    if decrease < largest_decrease:\n",
        "      largest_decrease = decrease\n",
        "      start_index = i\n",
        "      end_index = i + 1\n",
        "\n",
        "  if start_index !=-1 and end_index !=-1:\n",
        "    return f\"Between {student_number[start_index]} and {student_number[end_index]}\"\n",
        "  else:\n",
        "    return \"No decrease found\"\n",
        "\n",
        "result = findLargestDecrease(student_number)\n",
        "print (\"Output:\", result)"
      ]
    },
    {
      "cell_type": "markdown",
      "metadata": {
        "id": "NtKSQn9QFehS"
      },
      "source": [
        "## Linked List"
      ]
    },
    {
      "cell_type": "code",
      "execution_count": 112,
      "metadata": {
        "id": "0HP5zyJcFehS"
      },
      "outputs": [],
      "source": [
        "class Node:\n",
        "\n",
        "    def __init__(self, data):\n",
        "        self.data = data\n",
        "        self.next = None  # null"
      ]
    },
    {
      "cell_type": "code",
      "execution_count": 113,
      "metadata": {
        "id": "A-8Uefe7FehS"
      },
      "outputs": [],
      "source": [
        "class LinkedList:\n",
        "\n",
        "    def __init__(self):\n",
        "        self.head = None\n",
        "\n",
        "    def traverse(self, node):\n",
        "        while node:\n",
        "            print(node.data, end=\",\")\n",
        "            node = node.next\n",
        "\n",
        "    def push(self, new_data):\n",
        "        new_node = Node(new_data, self.head)\n",
        "        self.head = new_node\n",
        "\n",
        "    def append(self, new_data):\n",
        "        new_node = Node(new_data)\n",
        "\n",
        "        if self.head == None:\n",
        "            self.head = new_node\n",
        "            return\n",
        "\n",
        "        last_node = self.head\n",
        "\n",
        "        while last_node.next:\n",
        "            last_node = last_node.next\n",
        "\n",
        "        last_node.next = new_node"
      ]
    },
    {
      "cell_type": "markdown",
      "metadata": {
        "id": "uPgIJJuSFehT"
      },
      "source": [
        "**Instructions** ❗️❗️\n",
        "\n",
        "Use the pre-defined linked list class/functions to create a linked list"
      ]
    },
    {
      "cell_type": "markdown",
      "metadata": {
        "id": "WIwpW7Q2FehT"
      },
      "source": [
        "1. Create a Singly linked list named **num_list** and print all of its elements. `(5 points)`\n",
        "\n",
        "- **num_list** should contain all digits of your student number.\n",
        "\n",
        "    **Expected Output:**\n",
        "\n",
        "    print(num_list)\n",
        "\n",
        "    [2, 0, 2, 2, 1, 2, 3, 4, 5, 6]"
      ]
    },
    {
      "cell_type": "code",
      "execution_count": 114,
      "metadata": {
        "id": "Lihv0JPiFehT",
        "colab": {
          "base_uri": "https://localhost:8080/"
        },
        "outputId": "92b2bbda-f4dd-475e-bd1f-3c3a219b5acc"
      },
      "outputs": [
        {
          "output_type": "stream",
          "name": "stdout",
          "text": [
            "2,0,2,2,1,0,2,7,3,6,"
          ]
        }
      ],
      "source": [
        "# put your answer here\n",
        "\n",
        "num_list = LinkedList()\n",
        "\n",
        "num_list.head = Node(2)\n",
        "node_b = Node(0)\n",
        "node_c = Node(2)\n",
        "node_d = Node(2)\n",
        "node_e = Node(1)\n",
        "node_f = Node(0)\n",
        "node_g = Node(2)\n",
        "node_h = Node(7)\n",
        "node_i = Node(3)\n",
        "node_j = Node(6)\n",
        "\n",
        "num_list.head.next = node_b\n",
        "node_b.next = node_c\n",
        "node_c.next = node_d\n",
        "node_d.next = node_e\n",
        "node_e.next = node_f\n",
        "node_f.next = node_g\n",
        "node_g.next = node_h\n",
        "node_h.next = node_i\n",
        "node_i.next = node_j\n",
        "\n",
        "num_list.traverse(num_list.head)"
      ]
    },
    {
      "cell_type": "markdown",
      "metadata": {
        "id": "dqA2UYrYFehT"
      },
      "source": [
        "2. Write a `hasPrime()` function to test whether a prime number is in the last six digits of **num_list**. `(5 points)`\n",
        "\n",
        "- If a prime number is in the last six digits of **num_list**, the method should return **true**\n",
        "\n",
        "- If a prime number is not in the last six digits of **num_list**, the method should return **false**\n",
        "\n",
        "    **Expected Output:**\n",
        "\n",
        "    hasPrime(num_list)\n",
        "\n",
        "    True"
      ]
    },
    {
      "cell_type": "code",
      "execution_count": 115,
      "metadata": {
        "id": "GYwsQNz5FehT",
        "colab": {
          "base_uri": "https://localhost:8080/"
        },
        "outputId": "0440afe6-023b-4d75-a5e8-92faaccda08e"
      },
      "outputs": [
        {
          "output_type": "stream",
          "name": "stdout",
          "text": [
            "True\n"
          ]
        }
      ],
      "source": [
        "# put your answer here\n",
        "\n",
        "def isPrime(num):\n",
        "      if num <= 1:\n",
        "        return False\n",
        "      if num == 2:\n",
        "        return True\n",
        "      if num % 2 == 0:\n",
        "        return False\n",
        "      for i in range(3, int(num**0.5) + 1, 2):\n",
        "        if num % i == 0:\n",
        "            return False\n",
        "            return True\n",
        "\n",
        "def hasPrime(num_list):\n",
        "      last_six_digits = num_list[-6:]\n",
        "\n",
        "      for num in last_six_digits:\n",
        "        if isPrime(num):\n",
        "            return True\n",
        "\n",
        "      return False\n",
        "\n",
        "num_list = LinkedList()\n",
        "\n",
        "num_list = [2,0,2,2,1,0,2,7,3,6]\n",
        "\n",
        "result = hasPrime(num_list)\n",
        "print(result)"
      ]
    },
    {
      "cell_type": "markdown",
      "metadata": {
        "id": "5Qb0BOiwFehT"
      },
      "source": [
        "3. Write a `removeZeroes()` function to remove all occurrences of zeroes in **num_list**. `(5 points)`\n",
        "\n",
        "- If a zero is in **num_list**, return **num_list**\n",
        "\n",
        "- If there are no zeroes in **num_list**, return **\"no zeros found\"**\n",
        "\n",
        "    **Expected Output:**\n",
        "\n",
        "    removeZeroes(num_list)\n",
        "\n",
        "    [2, 2, 1, 2, 3, 4, 5, 6]"
      ]
    },
    {
      "cell_type": "code",
      "execution_count": 116,
      "metadata": {
        "id": "k1vAHUYuFehT",
        "colab": {
          "base_uri": "https://localhost:8080/"
        },
        "outputId": "c4cc5800-3238-4fdd-8070-8b40009c0368"
      },
      "outputs": [
        {
          "output_type": "stream",
          "name": "stdout",
          "text": [
            "[2, 2, 2, 1, 2, 7, 3, 6]\n"
          ]
        }
      ],
      "source": [
        "# put your answer here\n",
        "\n",
        "def removeZeroes(num_list):\n",
        "  if 0 in num_list:\n",
        "    num_list = [x for x in num_list if x != 0]\n",
        "    return num_list\n",
        "  else:\n",
        "    return \"no zeros found\"\n",
        "\n",
        "num_list = [2,0,2,2,1,0,2,7,3,6]\n",
        "\n",
        "result = removeZeroes(num_list)\n",
        "print(result)\n",
        ""
      ]
    },
    {
      "cell_type": "markdown",
      "metadata": {
        "id": "SKAlpglNFehT"
      },
      "source": [
        "4. Insert a dash symbol between the 4th and 5th digit in **num_list**. `(5 points)`\n",
        "\n",
        "    **Expected Output:**\n",
        "\n",
        "    print(num_list)\n",
        "\n",
        "    [2, 0, 2, 2, \"-\", 1, 2, 3, 4, 5, 6]"
      ]
    },
    {
      "cell_type": "code",
      "execution_count": 117,
      "metadata": {
        "id": "vF7fimZ-FehT",
        "colab": {
          "base_uri": "https://localhost:8080/"
        },
        "outputId": "fccb94b5-1395-47ec-ab55-2eb694f43733"
      },
      "outputs": [
        {
          "output_type": "stream",
          "name": "stdout",
          "text": [
            "[2, 0, 2, 2, '-', 1, 0, 2, 7, 3, 6]\n"
          ]
        }
      ],
      "source": [
        "# put your answer here\n",
        "\n",
        "def put_dash(num_list):\n",
        "  if len(num_list) >= 5:\n",
        "    num_list.insert (4,\"-\")\n",
        "\n",
        "num_list = [2,0,2,2,1,0,2,7,3,6]\n",
        "\n",
        "put_dash(num_list)\n",
        "\n",
        "print(num_list)"
      ]
    },
    {
      "cell_type": "markdown",
      "metadata": {
        "id": "KkC-LgdxFehT"
      },
      "source": [
        "## Stack"
      ]
    },
    {
      "cell_type": "code",
      "execution_count": 118,
      "metadata": {
        "id": "UYTqB1u_FehU"
      },
      "outputs": [],
      "source": [
        "# Creating a stack\n",
        "def create_stack():\n",
        "    stack = []\n",
        "    return stack\n",
        "\n",
        "\n",
        "def print_stack(stack):\n",
        "\n",
        "    if (check_empty(stack)):\n",
        "        return \"stack is empty\"\n",
        "\n",
        "    # Create a copy of the stack and reverse the elements\n",
        "    tempStack = stack.copy()\n",
        "    tempStack.reverse()\n",
        "\n",
        "    # Print all elements using a loop\n",
        "    for i in tempStack:\n",
        "        print(i)\n",
        "\n",
        "    # Delete the copy to free up memory\n",
        "    del tempStack\n",
        "\n",
        "# Creating an empty stack\n",
        "\n",
        "\n",
        "def check_empty(stack):\n",
        "    return len(stack) == 0\n",
        "\n",
        "\n",
        "# Adding items into the stack\n",
        "\n",
        "def push(stack, item):\n",
        "    stack.append(item)\n",
        "    print(\"pushed item: \" + item)\n",
        "\n",
        "\n",
        "# Removing an element from the stack\n",
        "def pop(stack):\n",
        "    if (check_empty(stack)):\n",
        "        return \"stack is empty\"\n",
        "\n",
        "    return stack.pop()\n",
        "\n",
        "\n",
        "def peek(stack):\n",
        "\n",
        "    # Use negative indexing to display the last element of the list\n",
        "    print(stack[-1])\n",
        "\n",
        "def display(self):\n",
        "\n",
        "\t\titernode = self.head\n",
        "\t\tif self.isempty():\n",
        "\t\t\tprint(\"Stack Underflow\")\n",
        "\n",
        "\t\telse:\n",
        "\n",
        "\t\t\twhile(iternode != None):\n",
        "\n",
        "\t\t\t\tprint(iternode.data, end = \"\")\n",
        "\t\t\t\titernode = iternode.next\n",
        "\t\t\t\tif(iternode != None):\n",
        "\t\t\t\t\tprint(\" -> \", end = \"\")\n",
        "\t\t\treturn"
      ]
    },
    {
      "cell_type": "markdown",
      "metadata": {
        "id": "wLAQchs8FehU"
      },
      "source": [
        "**Instructions** ❗️❗️\n",
        "\n",
        "Use the pre-defined stack class/functions to create a stack"
      ]
    },
    {
      "cell_type": "markdown",
      "metadata": {
        "id": "37cg9BoCFehU"
      },
      "source": [
        "1. Create two (2) stacks named **name_stack** and **num_stack** `(5 points)`\n",
        "\n",
        "- **name_stack** should contain all letters of your first name.\n",
        "- **num_stack** should contain all digits of your student number.\n",
        "\n",
        "    **Expected Output:**\n",
        "\n",
        "    print(name_stack)\n",
        "\n",
        "    ['E', 'L', 'I', 'Z', 'E', 'R']\n",
        "\n",
        "    print(num_stack)\n",
        "\n",
        "    [2,0,2,2,1,2,3,4,5,6]"
      ]
    },
    {
      "cell_type": "code",
      "execution_count": 119,
      "metadata": {
        "id": "HlUIUQzQFehU",
        "colab": {
          "base_uri": "https://localhost:8080/"
        },
        "outputId": "2560ceb9-257c-49d3-c3cf-aa9093e30c63"
      },
      "outputs": [
        {
          "output_type": "stream",
          "name": "stdout",
          "text": [
            "['J', 'I', 'L', 'L', 'I', 'A', 'N']\n",
            "[2, 0, 2, 2, 1, 0, 2, 7, 3, 6]\n"
          ]
        }
      ],
      "source": [
        "# put your answer here\n",
        "\n",
        "name_stack = []\n",
        "name = \"JILLIAN\"\n",
        "\n",
        "for char in name:\n",
        "    name_stack.append(char)\n",
        "\n",
        "student_number = \"2022102736\"\n",
        "num_stack = [int(digit) for digit in student_number]\n",
        "\n",
        "print(name_stack)\n",
        "print(num_stack)"
      ]
    },
    {
      "cell_type": "markdown",
      "metadata": {
        "id": "8cySe9LXFehU"
      },
      "source": [
        "2. Create a stack named **my_stack** that follows the following format: `(5 points)`\n",
        "\n",
        "- The first element should be the **5th digit in your student number**\n",
        "- The succeeding elements should be the letters of your **first name**\n",
        "- The last element should be the **last digit of your student number**\n",
        "\n",
        "    **Expected Output:**\n",
        "\n",
        "    my_stack = [1, E, L, I, Z, E, R, 6]"
      ]
    },
    {
      "cell_type": "code",
      "execution_count": 120,
      "metadata": {
        "id": "bEnCoAhjFehU",
        "colab": {
          "base_uri": "https://localhost:8080/"
        },
        "outputId": "b8698460-7795-4480-eca7-b581919a1133"
      },
      "outputs": [
        {
          "output_type": "stream",
          "name": "stdout",
          "text": [
            "[1, 'J', 'I', 'L', 'L', 'I', 'A', 'N', 6]\n"
          ]
        }
      ],
      "source": [
        "# put your answer here\n",
        "\n",
        "my_stack = []\n",
        "\n",
        "student_number = \"2022102736\"\n",
        "my_stack.append(int(student_number[4]))\n",
        "\n",
        "name = \"JILLIAN\"\n",
        "for char in name:\n",
        "  my_stack.append(char)\n",
        "\n",
        "my_stack.append(int(student_number[-1]))\n",
        "\n",
        "print(my_stack)"
      ]
    },
    {
      "cell_type": "markdown",
      "metadata": {
        "id": "8a8_KP5nFehU"
      },
      "source": [
        "3. Write a `verifyStack()` function that will take in `my_stack` and check if its format has been followed `(10 points)`\n",
        "\n",
        "- Return **True** if the format has been followed\n",
        "- Return **False** if the format was not followed\n",
        "- Verify the format by checking the contents of **my_stack** with **name_stack** and **num_stack**\n",
        "\n",
        "    **Expected Output:**\n",
        "\n",
        "    my_stack = [1, E, L, I, Z, E, R, 6]\n",
        "\n",
        "    verifyStack(my_stack)\n",
        "\n",
        "    True\n",
        "\n",
        "    my_stack = [1, S, L, I, Z, E, R, 7]\n",
        "\n",
        "    verifyStack(my_stack)\n",
        "\n",
        "    False"
      ]
    },
    {
      "cell_type": "code",
      "execution_count": 121,
      "metadata": {
        "id": "RdANSxD0FehU",
        "colab": {
          "base_uri": "https://localhost:8080/"
        },
        "outputId": "4a581eb5-a529-4768-df6c-1ceeba29aaf2"
      },
      "outputs": [
        {
          "output_type": "stream",
          "name": "stdout",
          "text": [
            "[2, 'J', 'I', 'L', 'L', 'I', 'A', 'N', 8]\n",
            "verifyStack(sample_stack1): False\n",
            "[1, 'J', 'I', 'L', 'L', 'I', 'A', 'N', 6]\n",
            "verifyStack(sample_stack1): False\n"
          ]
        }
      ],
      "source": [
        "# put your answer here\n",
        "\n",
        "def verifyStack(my_stack, name, student_number):\n",
        "    if (\n",
        "        len(my_stack) == len(name) + len(student_number) - 2\n",
        "        and my_stack[0] == student_number[4]\n",
        "        and my_stack[-1] == student_number[-1]\n",
        "    ):\n",
        "        for i in range(1, len(name) + 1):\n",
        "            if my_stack[i] != name[i - 1]:\n",
        "                return False\n",
        "        return True\n",
        "    else:\n",
        "        return False\n",
        "\n",
        "name = ['J','I','L','L','I','A','N']\n",
        "student_number = [2,0,2,2,1,0,2,7,3,6]\n",
        "\n",
        "sample_stack1 =[2,'J','I','L','L','I','A','N',8]\n",
        "sample_stack2 =[1,'J','I','L','L','I','A','N',6]\n",
        "\n",
        "result1 = verifyStack(sample_stack1, name_stack, num_stack)\n",
        "result2 = verifyStack(sample_stack2, name_stack, num_stack)\n",
        "\n",
        "\n",
        "print(sample_stack1)\n",
        "print(\"verifyStack(sample_stack1):\", result1)\n",
        "\n",
        "print(sample_stack2)\n",
        "print(\"verifyStack(sample_stack1):\", result2)"
      ]
    },
    {
      "cell_type": "markdown",
      "metadata": {
        "id": "UC5C64B2FehU"
      },
      "source": [
        "## Queue"
      ]
    },
    {
      "cell_type": "code",
      "execution_count": 122,
      "metadata": {
        "id": "NJJ0j0LHFehU"
      },
      "outputs": [],
      "source": [
        "class Queue:\n",
        "    def __init__(self):\n",
        "        self.queue = []\n",
        "\n",
        "    # Add an element\n",
        "    def enqueue(self, item):\n",
        "        self.queue.append(item)\n",
        "\n",
        "    # Remove an element\n",
        "    def dequeue(self):\n",
        "        if len(self.queue) < 1:\n",
        "            return None\n",
        "        return self.queue.pop(0)\n",
        "\n",
        "    # Display  the queue\n",
        "    def display(self):\n",
        "        print(self.queue)\n",
        "\n",
        "    def size(self):\n",
        "        return len(self.queue)\n",
        "\n",
        "    def peek(self):\n",
        "        return self.queue[0]\n",
        "\n",
        "class Deque:\n",
        "    def __init__(self):\n",
        "        self.items = []\n",
        "\n",
        "    def isEmpty(self):\n",
        "        return self.items == []\n",
        "\n",
        "    def addRear(self, item):\n",
        "        self.items.append(item)\n",
        "\n",
        "    def addFront(self, item):\n",
        "        self.items.insert(0, item)\n",
        "\n",
        "    def removeFront(self):\n",
        "        return self.items.pop(0)\n",
        "\n",
        "    def removeRear(self):\n",
        "        return self.items.pop()\n",
        "\n",
        "    def size(self):\n",
        "        return len(self.items)"
      ]
    },
    {
      "cell_type": "markdown",
      "metadata": {
        "id": "80OekpbeFehV"
      },
      "source": [
        "**Instructions** ❗️❗️\n",
        "\n",
        "Use the pre-defined queue class/functions to create a Queue"
      ]
    },
    {
      "cell_type": "markdown",
      "metadata": {
        "id": "_Hf0OP5cFehV"
      },
      "source": [
        "1. Create a simple queue named **num_queue** `(5 points)`\n",
        "\n",
        "- **num_queue** should contain all digits of your student number.\n",
        "\n",
        "    **Expected Output:**\n",
        "\n",
        "    print(num_queue)\n",
        "\n",
        "    [2,0,2,2,1,2,3,4,5,6]"
      ]
    },
    {
      "cell_type": "code",
      "execution_count": 123,
      "metadata": {
        "id": "_mgmE4ArFehV",
        "colab": {
          "base_uri": "https://localhost:8080/"
        },
        "outputId": "b569eca0-a411-4787-d4c1-39d17f573def"
      },
      "outputs": [
        {
          "output_type": "stream",
          "name": "stdout",
          "text": [
            "[2, 0, 2, 2, 1, 0, 2, 7, 3, 6]\n"
          ]
        }
      ],
      "source": [
        "# put your answer here\n",
        "import queue\n",
        "\n",
        "student_num = [2,0,2,2,1,0,2,7,3,6]\n",
        "\n",
        "num_queue = queue.Queue()\n",
        "\n",
        "for digit in student_number:\n",
        "    num_queue.put(digit)\n",
        "\n",
        "\n",
        "print(list(num_queue.queue))"
      ]
    },
    {
      "cell_type": "markdown",
      "metadata": {
        "id": "1pHG8t6DFehV"
      },
      "source": [
        "2. Write a `getMax()` or `getMin()` function for **num_queue** `(5 points)`\n",
        "\n",
        "- If your student number ends with an odd number, create a `getMax()` function that will return the largest number in **num_queue**\n",
        "- If your student number ends with an even number, create a `getMin()` function that will return the lowest number in **num_queue**\n",
        "\n",
        "    **Expected Output for getMax():**\n",
        "\n",
        "    getMax(num_queue)\n",
        "\n",
        "    6\n",
        "\n",
        "    **Expected Output for getMin():**\n",
        "\n",
        "    getMin(num_queue)\n",
        "\n",
        "    0"
      ]
    },
    {
      "cell_type": "code",
      "execution_count": 124,
      "metadata": {
        "id": "itj2U610FehV",
        "colab": {
          "base_uri": "https://localhost:8080/"
        },
        "outputId": "4862949f-f17b-464f-bec3-76e46fce4f67"
      },
      "outputs": [
        {
          "output_type": "stream",
          "name": "stdout",
          "text": [
            "0\n"
          ]
        }
      ],
      "source": [
        "# put your answer here\n",
        "def getMax(num_queue):\n",
        "\n",
        "    student_number = \"2022102736\"\n",
        "    last_digit = int(student_number[-1])\n",
        "\n",
        "    max_num = max(num_queue)\n",
        "    return max_num\n",
        "\n",
        "def getMin(num_queue):\n",
        "    student_number = \"2022102736\"\n",
        "    last_digit = int(student_number[-1])\n",
        "\n",
        "    min_num = min(num_queue)\n",
        "    return min_num\n",
        "\n",
        "num_queue = [2,0,2,2,1,0,2,7,3,6]\n",
        "\n",
        "if num_queue[-1] % 2 == 0:\n",
        "    result = getMin(num_queue)\n",
        "else:\n",
        "    result = getMax(num_queue)\n",
        "\n",
        "\n",
        "print(result)"
      ]
    },
    {
      "cell_type": "markdown",
      "metadata": {
        "id": "YkgmP6GwFehV"
      },
      "source": [
        "3. Write a `getOdd()` or `getEven()` function for  **num_queue** `(5 points)`\n",
        "\n",
        "- If your student number ends with an **odd number**, create a `getOdd()` function that will return all odd numbers in **num_queue**\n",
        "- If your student number ends with an **even number**, create a `getEven()` function that will return all even numbers in **num_queue**\n",
        "\n",
        "    **Expected Output for getOdd():**\n",
        "\n",
        "    getOdd(num_queue)\n",
        "\n",
        "    [1, 3, 5]\n",
        "\n",
        "    **Expected Output for getEven():**\n",
        "\n",
        "    getEven(num_queue)\n",
        "\n",
        "    [0, 2, 4, 6]"
      ]
    },
    {
      "cell_type": "code",
      "execution_count": 125,
      "metadata": {
        "id": "2Bc7E1zNFehV",
        "colab": {
          "base_uri": "https://localhost:8080/"
        },
        "outputId": "8e3bf0c1-523a-42b9-ed92-6868d12d060e"
      },
      "outputs": [
        {
          "output_type": "stream",
          "name": "stdout",
          "text": [
            "[2, 0, 2, 2, 0, 2, 6]\n"
          ]
        }
      ],
      "source": [
        "# put your answer here\n",
        "\n",
        "def getOdd(num_queue):\n",
        "\n",
        "    student_number = \"2022102736\"\n",
        "    last_digit = int(student_number[-1])\n",
        "\n",
        "    odd_numbers = []\n",
        "\n",
        "    for num in num_queue:\n",
        "        if num % 2 != 0:\n",
        "            odd_numbers.append(num)\n",
        "\n",
        "    return odd_numbers\n",
        "\n",
        "def getEven(num_queue):\n",
        "    student_number = \"2022102736\"\n",
        "    last_digit = int(student_number[-1])\n",
        "\n",
        "    even_numbers = []\n",
        "\n",
        "    for num in num_queue:\n",
        "        if num % 2 == 0:\n",
        "            even_numbers.append(num)\n",
        "\n",
        "    return even_numbers\n",
        "\n",
        "\n",
        "num_queue = [2,0,2,2,1,0,2,7,3,6]\n",
        "\n",
        "if num_queue[-1] % 2 == 0:\n",
        "    result = getEven(num_queue)\n",
        "else:\n",
        "    result = getOdd(num_queue)\n",
        "\n",
        "\n",
        "print(result)\n"
      ]
    },
    {
      "cell_type": "markdown",
      "metadata": {
        "id": "kuzWF5g4FehV"
      },
      "source": [
        "4. Write a `removeDup()` function that will remove all duplicates in **num_queue** `(5 points)`\n",
        "\n",
        "    **Expected Output:**\n",
        "\n",
        "    removeDup(num_queue)\n",
        "\n",
        "    [2,0,1,3,4,5,6]"
      ]
    },
    {
      "cell_type": "code",
      "execution_count": 126,
      "metadata": {
        "id": "I8LeQP8MFehY",
        "colab": {
          "base_uri": "https://localhost:8080/"
        },
        "outputId": "9595bba7-be35-4b2c-b49e-537615814a39"
      },
      "outputs": [
        {
          "output_type": "stream",
          "name": "stdout",
          "text": [
            "[2, 0, 1, 3, 4, 5, 6]\n"
          ]
        }
      ],
      "source": [
        "# put your answer here\n",
        "\n",
        "def removeDup(num_queue):\n",
        "    unique_elements = set()\n",
        "\n",
        "    num_queue_without_duplicates = []\n",
        "\n",
        "    for num in num_queue:\n",
        "        if num not in unique_elements:\n",
        "            unique_elements.add(num)\n",
        "            num_queue_without_duplicates.append(num)\n",
        "\n",
        "    return num_queue_without_duplicates\n",
        "\n",
        "num_queue = [2, 0, 2, 1, 3, 3, 4, 5, 6]\n",
        "\n",
        "result = removeDup(num_queue)\n",
        "\n",
        "print(result)\n"
      ]
    },
    {
      "cell_type": "markdown",
      "metadata": {
        "id": "LVfZTh8YFehZ"
      },
      "source": [
        "## Sort"
      ]
    },
    {
      "cell_type": "markdown",
      "metadata": {
        "id": "bm9lonfzFehZ"
      },
      "source": [
        "**Instructions** ❗️❗️\n",
        "\n",
        "Use the any sorting algoritms"
      ]
    },
    {
      "cell_type": "markdown",
      "metadata": {
        "id": "EJTlxhEdFehZ"
      },
      "source": [
        "1. Using any sorting algorithm, sort the **last 6 digits** of your student number in ascending order `(5 points)`\n",
        "\n",
        "    **Example:**\n",
        "\n",
        "    student_number = [2,0,2,2,6,2,5,1,3,4]\n",
        "\n",
        "    **Expected Output:**\n",
        "\n",
        "    print(student_number)\n",
        "\n",
        "    [2,0,2,2,1,2,3,4,5,6]\n"
      ]
    },
    {
      "cell_type": "code",
      "source": [
        "# put your answer here\n",
        "\n",
        "def bubble_sort(arr):\n",
        "    n = len(arr)\n",
        "\n",
        "    for i in range(n):\n",
        "        for j in range(0, n - i - 1):\n",
        "            if arr[j] > arr[j + 1]:\n",
        "                arr[j], arr[j + 1] = arr[j + 1], arr[j]\n",
        "\n",
        "student_number = [2, 0, 2, 2, 1, 0, 2, 7, 3, 6]\n",
        "\n",
        "last_six_digits = student_number[-6:]\n",
        "bubble_sort(last_six_digits)\n",
        "\n",
        "student_number[-6:] = last_six_digits\n",
        "\n",
        "print(student_number)\n"
      ],
      "metadata": {
        "colab": {
          "base_uri": "https://localhost:8080/"
        },
        "id": "gCuAlI7OXLmy",
        "outputId": "61c5e9f7-929b-478e-e5f2-386420e9ca9c"
      },
      "execution_count": 127,
      "outputs": [
        {
          "output_type": "stream",
          "name": "stdout",
          "text": [
            "[2, 0, 2, 2, 0, 1, 2, 3, 6, 7]\n"
          ]
        }
      ]
    },
    {
      "cell_type": "markdown",
      "metadata": {
        "id": "sC2JZRZMFehZ"
      },
      "source": [
        "2. Using your student_number, separately sort the even numbers in **increasing order** and the odd numbers in **decreasing order** `(15 points)`\n",
        "\n",
        "    **Example:**\n",
        "\n",
        "    student_number = [2,0,2,2,1,2,3,4,5,6]\n",
        "\n",
        "    **Expected Output:**\n",
        "\n",
        "    print(student_number)\n",
        "\n",
        "    [0,2,2,2,2,4,6,5,3,1]"
      ]
    },
    {
      "cell_type": "code",
      "execution_count": 128,
      "metadata": {
        "id": "hWOh_ohcFehZ",
        "colab": {
          "base_uri": "https://localhost:8080/"
        },
        "outputId": "f1a85e01-843d-4a54-8f16-de3c27e0b750"
      },
      "outputs": [
        {
          "output_type": "stream",
          "name": "stdout",
          "text": [
            "[0, 0, 2, 2, 7, 2, 2, 3, 1, 6]\n"
          ]
        }
      ],
      "source": [
        "# put your answer here\n",
        "\n",
        "student_number = [2,0,2,2,1,0,2,7,3,6]\n",
        "\n",
        "even_numbers = [num for num in student_number if num % 2 == 0]\n",
        "odd_numbers = [num for num in student_number if num % 2 != 0]\n",
        "\n",
        "even_numbers.sort()\n",
        "odd_numbers.sort(reverse=True)\n",
        "\n",
        "student_number_sort = [even_numbers.pop(0) if num % 2 == 0 else odd_numbers.pop(0) for num in student_number]\n",
        "\n",
        "print(student_number_sort)"
      ]
    }
  ],
  "metadata": {
    "kernelspec": {
      "display_name": "Python 3",
      "language": "python",
      "name": "python3"
    },
    "language_info": {
      "codemirror_mode": {
        "name": "ipython",
        "version": 3
      },
      "file_extension": ".py",
      "mimetype": "text/x-python",
      "name": "python",
      "nbconvert_exporter": "python",
      "pygments_lexer": "ipython3",
      "version": "3.9.13"
    },
    "orig_nbformat": 4,
    "colab": {
      "provenance": [],
      "include_colab_link": true
    }
  },
  "nbformat": 4,
  "nbformat_minor": 0
}